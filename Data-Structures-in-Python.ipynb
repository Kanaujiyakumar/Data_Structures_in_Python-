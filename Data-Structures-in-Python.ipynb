{
 "cells": [
  {
   "cell_type": "code",
   "execution_count": 1,
   "id": "634462a6-c480-4bae-adc2-fa823db4e917",
   "metadata": {},
   "outputs": [
    {
     "name": "stdout",
     "output_type": "stream",
     "text": [
      "Original string: Hello, World!\n",
      "Reversed string: !dlroW ,olleH\n"
     ]
    }
   ],
   "source": [
    "#Write a code to reverse a string\n",
    "\n",
    "def reverse_string(input_string):\n",
    "    reversed_string = input_string[::-1]\n",
    "    return reversed_string\n",
    "\n",
    "input_string = \"Hello, World!\"\n",
    "reversed_string = reverse_string(input_string)\n",
    "print(\"Original string:\", input_string)\n",
    "print(\"Reversed string:\", reversed_string)"
   ]
  },
  {
   "cell_type": "code",
   "execution_count": 2,
   "id": "f428a160-fc7e-406d-b8fa-b6bf9d49e7fa",
   "metadata": {},
   "outputs": [
    {
     "name": "stdout",
     "output_type": "stream",
     "text": [
      "The number of vowels in 'Hello, World!' is 3.\n"
     ]
    }
   ],
   "source": [
    "#Write a code to count the number of vowels in a string.\n",
    "\n",
    "def count_vowels(s):\n",
    "    vowels = \"aeiouAEIOU\"\n",
    "    count = 0\n",
    "    for char in s:\n",
    "        if char in vowels:\n",
    "            count += 1\n",
    "    return count\n",
    "\n",
    "input_string = \"Hello, World!\"\n",
    "vowel_count = count_vowels(input_string)\n",
    "print(f\"The number of vowels in '{input_string}' is {vowel_count}.\")"
   ]
  },
  {
   "cell_type": "code",
   "execution_count": 3,
   "id": "514717c7-129f-429c-a9c3-2cc38c6ac435",
   "metadata": {},
   "outputs": [
    {
     "name": "stdout",
     "output_type": "stream",
     "text": [
      "'A man, a plan, a canal, Panama' is a palindrome.\n"
     ]
    }
   ],
   "source": [
    "#Write a code to check if a given string is a palindrome or not.\n",
    "\n",
    "def is_palindrome(s):\n",
    "    cleaned_string = ''.join(c.lower() for c in s if c.isalnum())\n",
    "    return cleaned_string == cleaned_string[::-1]\n",
    "\n",
    "input_string = \"A man, a plan, a canal, Panama\"\n",
    "if is_palindrome(input_string):\n",
    "    print(f\"'{input_string}' is a palindrome.\")\n",
    "else:\n",
    "    print(f\"'{input_string}' is not a palindrome.\")"
   ]
  },
  {
   "cell_type": "code",
   "execution_count": 4,
   "id": "bc7245db-6220-4a5b-b888-7fda6b0c12d2",
   "metadata": {},
   "outputs": [
    {
     "name": "stdout",
     "output_type": "stream",
     "text": [
      "'listen' and 'silent' are anagrams.\n"
     ]
    }
   ],
   "source": [
    "#Write a code to check if two given strings are anagrams of each other.\n",
    "\n",
    "def are_anagrams(str1, str2):\n",
    "    str1_sorted = sorted(str1.lower())\n",
    "    str2_sorted = sorted(str2.lower())\n",
    "    \n",
    "    return str1_sorted == str2_sorted\n",
    "\n",
    "string1 = \"listen\"\n",
    "string2 = \"silent\"\n",
    "if are_anagrams(string1, string2):\n",
    "    print(f\"'{string1}' and '{string2}' are anagrams.\")\n",
    "else:\n",
    "    print(f\"'{string1}' and '{string2}' are not anagrams.\")"
   ]
  },
  {
   "cell_type": "code",
   "execution_count": 5,
   "id": "45115fc8-6654-47ba-937f-b3dafa2d5554",
   "metadata": {},
   "outputs": [
    {
     "name": "stdout",
     "output_type": "stream",
     "text": [
      "All occurrences of 'is' in 'This is a test string. This is a test.': [2, 5, 25, 28]\n"
     ]
    }
   ],
   "source": [
    "#Write a code to find all occurrences of a given substring within another string\n",
    "\n",
    "def find_all_occurrences(string, substring):\n",
    "    occurrences = []\n",
    "    start = 0\n",
    "    while start < len(string):\n",
    "        pos = string.find(substring, start)\n",
    "        if pos == -1:\n",
    "            break\n",
    "        occurrences.append(pos)\n",
    "        start = pos + 1\n",
    "    \n",
    "    return occurrences\n",
    "    \n",
    "string = \"This is a test string. This is a test.\"\n",
    "substring = \"is\"\n",
    "occurrences = find_all_occurrences(string, substring)\n",
    "print(f\"All occurrences of '{substring}' in '{string}': {occurrences}\")"
   ]
  },
  {
   "cell_type": "code",
   "execution_count": 6,
   "id": "c3dbd155-b5bd-4384-a5f9-fcb97c8b3eab",
   "metadata": {},
   "outputs": [
    {
     "name": "stdout",
     "output_type": "stream",
     "text": [
      "Original string: 'aabcccccaaa'\n",
      "Compressed string: 'a2b1c5a3'\n"
     ]
    }
   ],
   "source": [
    "#Write a code to perform basic string compression using the counts of repeated characters.\n",
    "\n",
    "def compress_string(s):\n",
    "    compressed = []\n",
    "    count = 1\n",
    "\n",
    "    for i in range(1, len(s) + 1):\n",
    "        if i < len(s) and s[i] == s[i - 1]:\n",
    "            count += 1\n",
    "        else:\n",
    "            compressed.append(s[i - 1] + str(count))\n",
    "            count = 1\n",
    "    \n",
    "    compressed_string = ''.join(compressed)\n",
    "    return compressed_string if len(compressed_string) < len(s) else s\n",
    "\n",
    "input_string = \"aabcccccaaa\"\n",
    "compressed_string = compress_string(input_string)\n",
    "print(f\"Original string: '{input_string}'\")\n",
    "print(f\"Compressed string: '{compressed_string}'\")"
   ]
  },
  {
   "cell_type": "code",
   "execution_count": 7,
   "id": "28ccd328-66b2-476e-ae57-28f79187aaed",
   "metadata": {},
   "outputs": [
    {
     "name": "stdout",
     "output_type": "stream",
     "text": [
      "'abcdefg' has all unique characters.\n"
     ]
    }
   ],
   "source": [
    "#Write a code to determine if a string has all unique characters.\n",
    "\n",
    "def has_unique_characters(s):\n",
    "    char_set = set()\n",
    "    \n",
    "    for char in s:\n",
    "        if char in char_set:\n",
    "            return False\n",
    "        char_set.add(char)\n",
    "    return True\n",
    "\n",
    "input_string = \"abcdefg\"\n",
    "if has_unique_characters(input_string):\n",
    "    print(f\"'{input_string}' has all unique characters.\")\n",
    "else:\n",
    "    print(f\"'{input_string}' does not have all unique characters.\")"
   ]
  },
  {
   "cell_type": "code",
   "execution_count": 8,
   "id": "fe05aa92-6ccd-4586-a19c-acce95672833",
   "metadata": {},
   "outputs": [
    {
     "name": "stdout",
     "output_type": "stream",
     "text": [
      "Original string: 'HELLO, WORLD!'\n",
      "Lowercase string: 'hello, world!'\n"
     ]
    }
   ],
   "source": [
    "#Write a code to convert a given string to uppercase to lowercase. \n",
    "\n",
    "def convert_to_lowercase(s):\n",
    "    return s.lower()\n",
    "    \n",
    "input_string = \"HELLO, WORLD!\"\n",
    "lowercase_string = convert_to_lowercase(input_string)\n",
    "print(f\"Original string: '{input_string}'\")\n",
    "print(f\"Lowercase string: '{lowercase_string}'\")"
   ]
  },
  {
   "cell_type": "code",
   "execution_count": 9,
   "id": "b979b788-beb6-40fb-98a0-00383e2a365d",
   "metadata": {},
   "outputs": [
    {
     "name": "stdout",
     "output_type": "stream",
     "text": [
      "The number of words in the string is: 6\n"
     ]
    }
   ],
   "source": [
    "#Write a code to count the number of words in a string. \n",
    "\n",
    "def count_words(s):\n",
    "    words = s.split()\n",
    "    return len(words)\n",
    "\n",
    "input_string = \"Hello, how are you doing today?\"\n",
    "word_count = count_words(input_string)\n",
    "print(f\"The number of words in the string is: {word_count}\")"
   ]
  },
  {
   "cell_type": "code",
   "execution_count": 10,
   "id": "7fed27d8-e909-449b-bb92-be904d83bcec",
   "metadata": {},
   "outputs": [
    {
     "name": "stdout",
     "output_type": "stream",
     "text": [
      "Concatenated string: 'Hello, World!'\n"
     ]
    }
   ],
   "source": [
    "#Write a code to concatenate two strings without using the + operation.\n",
    "\n",
    "def concatenate_strings(str1, str2):\n",
    "    return ''.join([str1, str2])\n",
    "\n",
    "string1 = \"Hello, \"\n",
    "string2 = \"World!\"\n",
    "result = concatenate_strings(string1, string2)\n",
    "print(f\"Concatenated string: '{result}'\")"
   ]
  },
  {
   "cell_type": "code",
   "execution_count": 11,
   "id": "ec87deb1-3253-4f75-969a-20485e8d058c",
   "metadata": {},
   "outputs": [
    {
     "name": "stdout",
     "output_type": "stream",
     "text": [
      "Original list: [1, 2, 3, 4, 3, 5, 3, 6]\n",
      "List after removing 3: [1, 2, 4, 5, 6]\n"
     ]
    }
   ],
   "source": [
    "#Write a code to remove all occurrences of a specific element from a list.\n",
    "\n",
    "def remove_all_occurrences(lst, element):\n",
    "    return [x for x in lst if x != element]\n",
    "    \n",
    "input_list = [1, 2, 3, 4, 3, 5, 3, 6]\n",
    "element_to_remove = 3\n",
    "result_list = remove_all_occurrences(input_list, element_to_remove)\n",
    "print(f\"Original list: {input_list}\")\n",
    "print(f\"List after removing {element_to_remove}: {result_list}\")"
   ]
  },
  {
   "cell_type": "code",
   "execution_count": 12,
   "id": "946da7a8-8950-4fb7-b1c4-4411e1e729a5",
   "metadata": {},
   "outputs": [
    {
     "name": "stdout",
     "output_type": "stream",
     "text": [
      "The second largest number in the list is: 4\n"
     ]
    }
   ],
   "source": [
    "#Implement a code to find the second largest number in a given list of integers.\n",
    "\n",
    "def find_second_largest(lst):\n",
    "    if len(set(lst)) < 2:\n",
    "        return None\n",
    "        \n",
    "    unique_lst = list(set(lst))\n",
    "    unique_lst.sort(reverse=True)\n",
    "    return unique_lst[1]\n",
    "\n",
    "input_list = [4, 2, 5, 1, 3, 5, 2]\n",
    "second_largest = find_second_largest(input_list)\n",
    "print(f\"The second largest number in the list is: {second_largest}\")"
   ]
  },
  {
   "cell_type": "code",
   "execution_count": 13,
   "id": "18844525-1fde-4504-a258-00a8ee90fd2d",
   "metadata": {},
   "outputs": [
    {
     "name": "stdout",
     "output_type": "stream",
     "text": [
      "Occurrences dictionary: {1: 1, 2: 2, 3: 3, 4: 4}\n"
     ]
    }
   ],
   "source": [
    "#Create a code to count the occurrences of each element in a list and return a dictionary with element as keys and their counts as values.\n",
    "\n",
    "def count_occurrences(lst):\n",
    "    counts = {}\n",
    "\n",
    "    for element in lst:\n",
    "        if element in counts:\n",
    "            counts[element] += 1\n",
    "        else:\n",
    "            counts[element] = 1\n",
    "    \n",
    "    return counts\n",
    "\n",
    "input_list = [1, 2, 2, 3, 3, 3, 4, 4, 4, 4]\n",
    "occurrences_dict = count_occurrences(input_list)\n",
    "print(f\"Occurrences dictionary: {occurrences_dict}\")"
   ]
  },
  {
   "cell_type": "code",
   "execution_count": 14,
   "id": "628d609e-20f9-481e-abe6-dce56de2e9b5",
   "metadata": {},
   "outputs": [
    {
     "name": "stdout",
     "output_type": "stream",
     "text": [
      "Reversed list: [5, 4, 3, 2, 1]\n"
     ]
    }
   ],
   "source": [
    "#Write a code to reverse a list in-place without using any built-in reverse functions.\n",
    "\n",
    "def reverse_list(lst):\n",
    "    left = 0\n",
    "    right = len(lst) - 1\n",
    "\n",
    "    while left < right:\n",
    "        lst[left], lst[right] = lst[right], lst[left]\n",
    "        left += 1\n",
    "        right -= 1\n",
    "\n",
    "input_list = [1, 2, 3, 4, 5]\n",
    "reverse_list(input_list)\n",
    "print(f\"Reversed list: {input_list}\")"
   ]
  },
  {
   "cell_type": "code",
   "execution_count": 15,
   "id": "dec92b8d-bc4b-40fe-878d-bf24055bbc5e",
   "metadata": {},
   "outputs": [
    {
     "name": "stdout",
     "output_type": "stream",
     "text": [
      "Original list: [1, 2, 2, 3, 4, 3, 5, 4, 6]\n",
      "List after removing duplicates: [1, 2, 3, 4, 5, 6]\n"
     ]
    }
   ],
   "source": [
    "#Implement a code to find and remove duplication from a list while preserving the original order of elements. \n",
    "\n",
    "def remove_duplicates(lst):\n",
    "    seen = set()\n",
    "    result = []\n",
    "    \n",
    "    for element in lst:\n",
    "        if element not in seen:\n",
    "            result.append(element)\n",
    "            seen.add(element)\n",
    "    return result\n",
    "\n",
    "input_list = [1, 2, 2, 3, 4, 3, 5, 4, 6]\n",
    "unique_list = remove_duplicates(input_list)\n",
    "print(f\"Original list: {input_list}\")\n",
    "print(f\"List after removing duplicates: {unique_list}\")"
   ]
  },
  {
   "cell_type": "code",
   "execution_count": 16,
   "id": "b8747826-4ea9-4284-a8f3-6419ed2254a0",
   "metadata": {},
   "outputs": [
    {
     "name": "stdout",
     "output_type": "stream",
     "text": [
      "Is the list [1, 2, 3, 4, 5] sorted? Ascending\n",
      "Is the list [5, 4, 3, 2, 1] sorted? Descending\n",
      "Is the list [3, 1, 2, 5, 4] sorted? Unsorted\n"
     ]
    }
   ],
   "source": [
    "#Create a code to check if a given list is sorted (either in ascending or descending order) or not.\n",
    "\n",
    "def is_sorted(lst):\n",
    "    if all(lst[i] <= lst[i + 1] for i in range(len(lst) - 1)):\n",
    "        return \"Ascending\"\n",
    "    \n",
    "    elif all(lst[i] >= lst[i + 1] for i in range(len(lst) - 1)):\n",
    "        return \"Descending\"\n",
    "    else:\n",
    "        return \"Unsorted\"\n",
    "        \n",
    "sorted_list_asc = [1, 2, 3, 4, 5]\n",
    "sorted_list_desc = [5, 4, 3, 2, 1]\n",
    "unsorted_list = [3, 1, 2, 5, 4]\n",
    "print(f\"Is the list {sorted_list_asc} sorted? {is_sorted(sorted_list_asc)}\")\n",
    "print(f\"Is the list {sorted_list_desc} sorted? {is_sorted(sorted_list_desc)}\")\n",
    "print(f\"Is the list {unsorted_list} sorted? {is_sorted(unsorted_list)}\")"
   ]
  },
  {
   "cell_type": "code",
   "execution_count": 18,
   "id": "73ccd765-c6ef-4ccd-81f2-01da8c08ab41",
   "metadata": {},
   "outputs": [
    {
     "name": "stdout",
     "output_type": "stream",
     "text": [
      "Merged sorted list: [1, 2, 3, 4, 5, 6, 7, 8, 9, 10]\n"
     ]
    }
   ],
   "source": [
    "#Write a code to mange two sorted lists into a single sorted list.\n",
    "\n",
    "\n",
    "def merge_sorted_lists(list1, list2):\n",
    "    merged_list = []\n",
    "    i = 0  # Pointer for list1\n",
    "    j = 0  # Pointer for list2\n",
    "    \n",
    "    while i < len(list1) and j < len(list2):\n",
    "        if list1[i] < list2[j]:\n",
    "            merged_list.append(list1[i])\n",
    "            i += 1\n",
    "        else:\n",
    "            merged_list.append(list2[j])\n",
    "            j += 1\n",
    "    \n",
    "    while i < len(list1):\n",
    "        merged_list.append(list1[i])\n",
    "        i += 1\n",
    "    \n",
    "    while j < len(list2):\n",
    "        merged_list.append(list2[j])\n",
    "        j += 1\n",
    "    \n",
    "    return merged_list\n",
    "\n",
    "list1 = [1, 3, 5, 7, 9]\n",
    "list2 = [2, 4, 6, 8, 10]\n",
    "merged = merge_sorted_lists(list1, list2)\n",
    "print(\"Merged sorted list:\", merged)"
   ]
  },
  {
   "cell_type": "code",
   "execution_count": 19,
   "id": "9e8eade9-fbd2-4c67-89b0-c2f02df33498",
   "metadata": {},
   "outputs": [
    {
     "name": "stdout",
     "output_type": "stream",
     "text": [
      "Intersection of the two lists: [4, 5]\n"
     ]
    }
   ],
   "source": [
    "#Implement a code to find the intersection of two given lists.\n",
    "\n",
    "def find_intersection(list1, list2):\n",
    "    intersection = []\n",
    "    \n",
    "    for item in list1:\n",
    "        if item in list2 and item not in intersection:\n",
    "            intersection.append(item)\n",
    "    \n",
    "    return intersection\n",
    "\n",
    "list1 = [1, 2, 3, 4, 5]\n",
    "list2 = [4, 5, 6, 7, 8]\n",
    "intersection = find_intersection(list1, list2)\n",
    "print(\"Intersection of the two lists:\", intersection)"
   ]
  },
  {
   "cell_type": "code",
   "execution_count": 20,
   "id": "e1baf5db-8d83-4f29-9ea5-5f94e841d24c",
   "metadata": {},
   "outputs": [
    {
     "name": "stdout",
     "output_type": "stream",
     "text": [
      "Union of the two lists: [1, 2, 3, 4, 5, 6, 7, 8]\n"
     ]
    }
   ],
   "source": [
    "#Create a code to find the union of two lists without duplications. \n",
    "\n",
    "def find_union(list1, list2):\n",
    "    union_set = set()\n",
    "    \n",
    "    union_set.update(list1)\n",
    "    \n",
    "    union_set.update(list2)\n",
    "    \n",
    "    return list(union_set)\n",
    "\n",
    "list1 = [1, 2, 3, 4, 5]\n",
    "list2 = [4, 5, 6, 7, 8]\n",
    "union = find_union(list1, list2)\n",
    "print(\"Union of the two lists:\", union)"
   ]
  },
  {
   "cell_type": "code",
   "execution_count": 21,
   "id": "db8a5a4e-d4d1-4272-b217-550a3bd581d8",
   "metadata": {},
   "outputs": [
    {
     "name": "stdout",
     "output_type": "stream",
     "text": [
      "Original list: [1, 2, 3, 4, 5]\n",
      "Shuffled list: [4, 5, 3, 1, 2]\n"
     ]
    }
   ],
   "source": [
    "#Write a code to shuffle a given list randomly without using any built-in shuffle functions.\n",
    "\n",
    "import random\n",
    "\n",
    "def shuffle_list(lst):\n",
    "    shuffled_list = lst[:]\n",
    "    \n",
    "    random.shuffle(shuffled_list)\n",
    "    \n",
    "    return shuffled_list\n",
    "\n",
    "original_list = [1, 2, 3, 4, 5]\n",
    "shuffled_list = shuffle_list(original_list)\n",
    "print(\"Original list:\", original_list)\n",
    "print(\"Shuffled list:\", shuffled_list)"
   ]
  },
  {
   "cell_type": "code",
   "execution_count": 22,
   "id": "56f63097-5f35-480f-8163-9f647e9fff56",
   "metadata": {},
   "outputs": [
    {
     "name": "stdout",
     "output_type": "stream",
     "text": [
      "Common elements: (4, 5)\n"
     ]
    }
   ],
   "source": [
    "#Write a code that takes two tuples as input and returns a new tuple containing element that are common to both input tuples. \n",
    "\n",
    "def common_elements(tuple1, tuple2):\n",
    "    set1 = set(tuple1)\n",
    "    set2 = set(tuple2)\n",
    "    \n",
    "    intersection = set1.intersection(set2)\n",
    "    \n",
    "    return tuple(intersection)\n",
    "\n",
    "tuple1 = (1, 2, 3, 4, 5)\n",
    "tuple2 = (4, 5, 6, 7, 8)\n",
    "common = common_elements(tuple1, tuple2)\n",
    "print(\"Common elements:\", common)"
   ]
  },
  {
   "cell_type": "code",
   "execution_count": null,
   "id": "1742202a-9317-4c65-aa45-e44a5538f07d",
   "metadata": {},
   "outputs": [],
   "source": [
    "#Create a code that prompts that user to enter two sets of integers separated by common. Then print the intersection of these two sets. \n",
    "\n",
    "def input_set(prompt):\n",
    "    input_str = input(prompt)\n",
    "    return set(map(int, input_str.split(',')))\n",
    "\n",
    "set1 = input_set(\"Enter the first set of integers separated by commas: \")\n",
    "set2 = input_set(\"Enter the second set of integers separated by commas: \")\n",
    "\n",
    "intersection = set1.intersection(set2)\n",
    "\n",
    "print(\"Intersection of the two sets:\", intersection)"
   ]
  },
  {
   "cell_type": "code",
   "execution_count": 1,
   "id": "58495760-1716-4dcd-87b9-fd02d0e89a6b",
   "metadata": {},
   "outputs": [
    {
     "name": "stdin",
     "output_type": "stream",
     "text": [
      "Enter the first set of strings separated by commas:  difference\n",
      "Enter the second set of strings separated by commas:  difference\n"
     ]
    },
    {
     "name": "stdout",
     "output_type": "stream",
     "text": [
      "Elements present in the first set but not in the second set: set()\n"
     ]
    }
   ],
   "source": [
    "#Develop a code that prompts the user to input two sets of string. Then print the element that are present in the first set but not in the second set.\n",
    "\n",
    "def input_set(prompt):\n",
    "    input_str = input(prompt)\n",
    "    return set(map(str.strip, input_str.split(',')))\n",
    "\n",
    "set1 = input_set(\"Enter the first set of strings separated by commas: \")\n",
    "set2 = input_set(\"Enter the second set of strings separated by commas: \")\n",
    "\n",
    "difference = set1 - set2\n",
    "\n",
    "print(\"Elements present in the first set but not in the second set:\", difference)"
   ]
  },
  {
   "cell_type": "code",
   "execution_count": 2,
   "id": "226f0e47-e9cb-4a35-acae-08bbb8739f91",
   "metadata": {},
   "outputs": [
    {
     "name": "stdout",
     "output_type": "stream",
     "text": [
      "Original tuple: (1, 2, 3, 4, 5, 6, 7, 8, 9, 10)\n",
      "Sliced tuple: (3, 4, 5, 6)\n"
     ]
    }
   ],
   "source": [
    "#Create a code that takes a tuples and two integers as input. The function should return a new tuple containing elements from the original tuple within the specified range of indices.\n",
    "\n",
    "def slice_tuple(input_tuple, start_index, end_index):\n",
    "    return input_tuple[start_index:end_index]\n",
    "\n",
    "input_tuple = (1, 2, 3, 4, 5, 6, 7, 8, 9, 10)\n",
    "start_index = 2\n",
    "end_index = 6\n",
    "sliced_tuple = slice_tuple(input_tuple, start_index, end_index)\n",
    "print(\"Original tuple:\", input_tuple)\n",
    "print(\"Sliced tuple:\", sliced_tuple)"
   ]
  },
  {
   "cell_type": "code",
   "execution_count": 3,
   "id": "ebe2f1b8-b687-4963-a23e-a8fa37c6e3cc",
   "metadata": {},
   "outputs": [
    {
     "name": "stdin",
     "output_type": "stream",
     "text": [
      "Enter the first set of characters:  union_set\n",
      "Enter the second set of characters:  union_set\n"
     ]
    },
    {
     "name": "stdout",
     "output_type": "stream",
     "text": [
      "Union of the two sets: {'n', 's', 't', '_', 'i', 'e', 'o', 'u'}\n"
     ]
    }
   ],
   "source": [
    "#Write a code that prompts the user to input two sets of characters. Then print the union of these two sets.\n",
    "\n",
    "def input_set(prompt):\n",
    "    input_str = input(prompt)\n",
    "    return set(input_str)\n",
    "\n",
    "set1 = input_set(\"Enter the first set of characters: \")\n",
    "set2 = input_set(\"Enter the second set of characters: \")\n",
    "\n",
    "union_set = set1.union(set2)\n",
    "\n",
    "print(\"Union of the two sets:\", union_set)"
   ]
  },
  {
   "cell_type": "code",
   "execution_count": 4,
   "id": "a57ec07f-71dd-4b35-a4c7-1b90d3c60915",
   "metadata": {},
   "outputs": [
    {
     "name": "stdout",
     "output_type": "stream",
     "text": [
      "Maximum value: 9\n",
      "Minimum value: 1\n"
     ]
    }
   ],
   "source": [
    "#Develop a code that takes a tuple of integers as input. The function should return the maximum and minimum values from the tuple using tuple unpacking.\n",
    "\n",
    "def find_max_min(input_tuple):\n",
    "    max_value = max(input_tuple)\n",
    "    min_value = min(input_tuple)\n",
    "    \n",
    "    return max_value, min_value\n",
    "\n",
    "input_tuple = (3, 1, 4, 1, 5, 9, 2, 6, 5, 3, 5)\n",
    "max_val, min_val = find_max_min(input_tuple)\n",
    "print(\"Maximum value:\", max_val)\n",
    "print(\"Minimum value:\", min_val)"
   ]
  },
  {
   "cell_type": "code",
   "execution_count": 5,
   "id": "8c2f4638-1287-4f0b-9552-ffae2bf29921",
   "metadata": {},
   "outputs": [
    {
     "name": "stdout",
     "output_type": "stream",
     "text": [
      "Set 1: {1, 2, 3, 4, 5}\n",
      "Set 2: {4, 5, 6, 7, 8}\n",
      "Union: {1, 2, 3, 4, 5, 6, 7, 8}\n",
      "Intersection: {4, 5}\n",
      "Difference (Set1 - Set2): {1, 2, 3}\n",
      "Difference (Set2 - Set1): {8, 6, 7}\n"
     ]
    }
   ],
   "source": [
    "#Create a code that defines two sets of integers. Then, print the union, intersection, and differences of these two sets.\n",
    "\n",
    "def print_set_operations(set1, set2):\n",
    "    union_set = set1.union(set2)\n",
    "    intersection_set = set1.intersection(set2)\n",
    "    difference_set1 = set1.difference(set2)\n",
    "    difference_set2 = set2.difference(set1)\n",
    "    \n",
    "    print(\"Set 1:\", set1)\n",
    "    print(\"Set 2:\", set2)\n",
    "    print(\"Union:\", union_set)\n",
    "    print(\"Intersection:\", intersection_set)\n",
    "    print(\"Difference (Set1 - Set2):\", difference_set1)\n",
    "    print(\"Difference (Set2 - Set1):\", difference_set2)\n",
    "\n",
    "set1 = {1, 2, 3, 4, 5}\n",
    "set2 = {4, 5, 6, 7, 8}\n",
    "\n",
    "print_set_operations(set1, set2)"
   ]
  },
  {
   "cell_type": "code",
   "execution_count": 6,
   "id": "87f21c97-dc6b-47cf-a273-37e8861cc642",
   "metadata": {},
   "outputs": [
    {
     "name": "stdin",
     "output_type": "stream",
     "text": [
      "Enter the first set of strings separated by commas:  symmetric_difference\n",
      "Enter the second set of strings separated by commas:  symmetric_difference\n"
     ]
    },
    {
     "name": "stdout",
     "output_type": "stream",
     "text": [
      "Symmetric difference of the two sets: set()\n"
     ]
    }
   ],
   "source": [
    "#Develop a code that prompts the user to print two sets of string. Then, print the symmetric difference of these two sets.\n",
    "\n",
    "def input_set(prompt):\n",
    "    input_str = input(prompt)\n",
    "    return set(map(str.strip, input_str.split(',')))\n",
    "\n",
    "set1 = input_set(\"Enter the first set of strings separated by commas: \")\n",
    "set2 = input_set(\"Enter the second set of strings separated by commas: \")\n",
    "\n",
    "symmetric_difference = set1.symmetric_difference(set2)\n",
    "\n",
    "print(\"Symmetric difference of the two sets:\", symmetric_difference)"
   ]
  },
  {
   "cell_type": "code",
   "execution_count": 8,
   "id": "6a95a2f9-d5c7-4478-a0bc-839c9161eeb6",
   "metadata": {},
   "outputs": [
    {
     "name": "stdout",
     "output_type": "stream",
     "text": [
      "Word frequencies: {'apple': 3, 'banana': 2, 'orange': 1}\n"
     ]
    }
   ],
   "source": [
    "#Write a code that takes a list of words as input and returns a dictionary where the keys are unique words and the values are the frequencies of those words in the input list.\n",
    "\n",
    "def word_frequencies(word_list):\n",
    "    frequency_dict = {}\n",
    "    for word in word_list:\n",
    "        if word in frequency_dict:\n",
    "            frequency_dict[word] += 1\n",
    "        else:\n",
    "            frequency_dict[word] = 1\n",
    "            \n",
    "    return frequency_dict\n",
    "\n",
    "words = [\"apple\", \"banana\", \"apple\", \"orange\", \"banana\", \"apple\"]\n",
    "frequencies = word_frequencies(words)\n",
    "print(\"Word frequencies:\", frequencies)"
   ]
  },
  {
   "cell_type": "code",
   "execution_count": 9,
   "id": "4285cfd0-d59e-41ce-b9a9-6f85b57fc4e5",
   "metadata": {},
   "outputs": [
    {
     "name": "stdout",
     "output_type": "stream",
     "text": [
      "Merged dictionary: {'a': 1, 'b': 5, 'c': 7, 'd': 5}\n"
     ]
    }
   ],
   "source": [
    "#Write a code takes two dictionaries as input and merges them into a single dictionary. If there are common keys, the values should be added together.\n",
    "\n",
    "def merge_dictionaries(dict1, dict2):\n",
    "    merged_dict = dict1.copy()\n",
    "    for key, value in dict2.items():\n",
    "        if key in merged_dict:\n",
    "            merged_dict[key] += value\n",
    "        else:\n",
    "            merged_dict[key] = value\n",
    "            \n",
    "    return merged_dict\n",
    "\n",
    "dict1 = {'a': 1, 'b': 2, 'c': 3}\n",
    "dict2 = {'b': 3, 'c': 4, 'd': 5}\n",
    "merged = merge_dictionaries(dict1, dict2)\n",
    "print(\"Merged dictionary:\", merged)"
   ]
  },
  {
   "cell_type": "code",
   "execution_count": 10,
   "id": "044d4797-d265-4d54-80d4-778c834e259e",
   "metadata": {},
   "outputs": [
    {
     "name": "stdout",
     "output_type": "stream",
     "text": [
      "Value: 1\n"
     ]
    }
   ],
   "source": [
    "#Write a code to access a value in a nested dictionary. The function should take the dictionary and a list of keys as input, and return the corresponding value. If any of the keys do not exist in the dictionary, the function should return None.\n",
    "\n",
    "def access_nested_dictionary(nested_dict, keys):\n",
    "    current_dict = nested_dict\n",
    "    for key in keys:\n",
    "        if key in current_dict:\n",
    "            current_dict = current_dict[key]\n",
    "        else:\n",
    "            return None\n",
    "    return current_dict\n",
    "\n",
    "nested_dict = {'a': {'b': {'c': 1}}}\n",
    "keys = ['a', 'b', 'c']\n",
    "value = access_nested_dictionary(nested_dict, keys)\n",
    "print(\"Value:\", value)"
   ]
  },
  {
   "cell_type": "code",
   "execution_count": 11,
   "id": "5695a7b4-1381-4e7c-838b-8297f94ba383",
   "metadata": {},
   "outputs": [
    {
     "name": "stdout",
     "output_type": "stream",
     "text": [
      "Sorted dictionary (ascending): {'b': 1, 'c': 2, 'a': 3}\n"
     ]
    }
   ],
   "source": [
    "#Write a code that takes a dictionary as input and returns a sorted version of it based on the values. You can choose whether to sort in ascending or descending order.\n",
    "\n",
    "def sort_dictionary_by_values(dictionary, ascending=True):\n",
    "    sorted_items = sorted(dictionary.items(), key=lambda x: x[1], reverse=not ascending)\n",
    "    sorted_dict = dict(sorted_items)\n",
    "    \n",
    "    return sorted_dict\n",
    "\n",
    "input_dict = {'a': 3, 'b': 1, 'c': 2}\n",
    "sorted_dict = sort_dictionary_by_values(input_dict)\n",
    "print(\"Sorted dictionary (ascending):\", sorted_dict)"
   ]
  },
  {
   "cell_type": "code",
   "execution_count": null,
   "id": "bb987fff-7df2-4cef-be0e-bbbbae105c5d",
   "metadata": {},
   "outputs": [],
   "source": []
  }
 ],
 "metadata": {
  "kernelspec": {
   "display_name": "Python 3 (ipykernel)",
   "language": "python",
   "name": "python3"
  },
  "language_info": {
   "codemirror_mode": {
    "name": "ipython",
    "version": 3
   },
   "file_extension": ".py",
   "mimetype": "text/x-python",
   "name": "python",
   "nbconvert_exporter": "python",
   "pygments_lexer": "ipython3",
   "version": "3.10.8"
  }
 },
 "nbformat": 4,
 "nbformat_minor": 5
}
